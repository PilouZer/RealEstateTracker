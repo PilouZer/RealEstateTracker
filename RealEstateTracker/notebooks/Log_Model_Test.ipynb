{
 "cells": [
  {
   "cell_type": "code",
   "execution_count": 1,
   "id": "775948b5",
   "metadata": {},
   "outputs": [],
   "source": [
    "from RealEstateTracker import utils, preprocessing\n",
    "import pandas as pd\n",
    "import numpy as np\n",
    "from sklearn.metrics import mean_squared_log_error"
   ]
  },
  {
   "cell_type": "code",
   "execution_count": 2,
   "id": "9d11aa85",
   "metadata": {},
   "outputs": [
    {
     "name": "stdout",
     "output_type": "stream",
     "text": [
      "/Users/pilou/code/llenci/RealEstateTracker/notebooks\r\n"
     ]
    }
   ],
   "source": [
    "!pwd"
   ]
  },
  {
   "cell_type": "code",
   "execution_count": 3,
   "id": "5ff81552",
   "metadata": {},
   "outputs": [
    {
     "name": "stdout",
     "output_type": "stream",
     "text": [
      "Model loaded from path ../RealEstateTracker/model_best_log.joblib\n"
     ]
    }
   ],
   "source": [
    "model = utils.load_model(\"../RealEstateTracker/model_best_log.joblib\")"
   ]
  },
  {
   "cell_type": "code",
   "execution_count": 4,
   "id": "8342805e",
   "metadata": {},
   "outputs": [
    {
     "name": "stderr",
     "output_type": "stream",
     "text": [
      "/Users/pilou/code/llenci/RealEstateTracker/RealEstateTracker/preprocessing.py:18: SettingWithCopyWarning: \n",
      "A value is trying to be set on a copy of a slice from a DataFrame.\n",
      "Try using .loc[row_indexer,col_indexer] = value instead\n",
      "\n",
      "See the caveats in the documentation: https://pandas.pydata.org/pandas-docs/stable/user_guide/indexing.html#returning-a-view-versus-a-copy\n",
      "  df_nonull[\"surface\"] = new[0]\n",
      "/Users/pilou/code/llenci/RealEstateTracker/RealEstateTracker/preprocessing.py:44: FutureWarning: The default value of regex will change from True to False in a future version. In addition, single character regular expressions will *not* be treated as literal strings when regex=True.\n",
      "  new[0] = new[0].str.replace(\".\",\"\")\n",
      "/Users/pilou/code/llenci/RealEstateTracker/RealEstateTracker/preprocessing.py:49: SettingWithCopyWarning: \n",
      "A value is trying to be set on a copy of a slice from a DataFrame.\n",
      "Try using .loc[row_indexer,col_indexer] = value instead\n",
      "\n",
      "See the caveats in the documentation: https://pandas.pydata.org/pandas-docs/stable/user_guide/indexing.html#returning-a-view-versus-a-copy\n",
      "  df[\"price\"] = df[\"price\"].astype(float)\n"
     ]
    }
   ],
   "source": [
    "df = preprocessing.preprocess()"
   ]
  },
  {
   "cell_type": "code",
   "execution_count": 5,
   "id": "dd035066",
   "metadata": {},
   "outputs": [
    {
     "data": {
      "text/html": [
       "<div>\n",
       "<style scoped>\n",
       "    .dataframe tbody tr th:only-of-type {\n",
       "        vertical-align: middle;\n",
       "    }\n",
       "\n",
       "    .dataframe tbody tr th {\n",
       "        vertical-align: top;\n",
       "    }\n",
       "\n",
       "    .dataframe thead th {\n",
       "        text-align: right;\n",
       "    }\n",
       "</style>\n",
       "<table border=\"1\" class=\"dataframe\">\n",
       "  <thead>\n",
       "    <tr style=\"text-align: right;\">\n",
       "      <th></th>\n",
       "      <th>price</th>\n",
       "      <th>rooms</th>\n",
       "      <th>surface</th>\n",
       "      <th>neighborhood</th>\n",
       "      <th>nhousetype</th>\n",
       "    </tr>\n",
       "  </thead>\n",
       "  <tbody>\n",
       "    <tr>\n",
       "      <th>0</th>\n",
       "      <td>566500.0</td>\n",
       "      <td>2.0</td>\n",
       "      <td>87.0</td>\n",
       "      <td>Chamberí</td>\n",
       "      <td>Piso</td>\n",
       "    </tr>\n",
       "    <tr>\n",
       "      <th>1</th>\n",
       "      <td>310500.0</td>\n",
       "      <td>3.0</td>\n",
       "      <td>78.0</td>\n",
       "      <td>Retiro</td>\n",
       "      <td>Piso</td>\n",
       "    </tr>\n",
       "    <tr>\n",
       "      <th>2</th>\n",
       "      <td>220000.0</td>\n",
       "      <td>4.0</td>\n",
       "      <td>103.0</td>\n",
       "      <td>Carabanchel</td>\n",
       "      <td>Piso</td>\n",
       "    </tr>\n",
       "    <tr>\n",
       "      <th>3</th>\n",
       "      <td>171000.0</td>\n",
       "      <td>2.0</td>\n",
       "      <td>81.0</td>\n",
       "      <td>Villa de Vallecas</td>\n",
       "      <td>Piso</td>\n",
       "    </tr>\n",
       "    <tr>\n",
       "      <th>4</th>\n",
       "      <td>369000.0</td>\n",
       "      <td>3.0</td>\n",
       "      <td>83.0</td>\n",
       "      <td>Centro</td>\n",
       "      <td>Piso</td>\n",
       "    </tr>\n",
       "  </tbody>\n",
       "</table>\n",
       "</div>"
      ],
      "text/plain": [
       "      price  rooms  surface       neighborhood nhousetype\n",
       "0  566500.0    2.0     87.0           Chamberí       Piso\n",
       "1  310500.0    3.0     78.0             Retiro       Piso\n",
       "2  220000.0    4.0    103.0        Carabanchel       Piso\n",
       "3  171000.0    2.0     81.0  Villa de Vallecas       Piso\n",
       "4  369000.0    3.0     83.0             Centro       Piso"
      ]
     },
     "execution_count": 5,
     "metadata": {},
     "output_type": "execute_result"
    }
   ],
   "source": [
    "df.head()"
   ]
  },
  {
   "cell_type": "code",
   "execution_count": 6,
   "id": "7354bc38",
   "metadata": {},
   "outputs": [],
   "source": [
    "X,y = preprocessing.X_y(df)"
   ]
  },
  {
   "cell_type": "code",
   "execution_count": 7,
   "id": "9428c1ae",
   "metadata": {},
   "outputs": [
    {
     "name": "stdout",
     "output_type": "stream",
     "text": [
      "DEBUG: y:\n",
      "          price\n",
      "0     13.247232\n",
      "1     12.645939\n",
      "2     12.301383\n",
      "3     12.049419\n",
      "4     12.818552\n",
      "...         ...\n",
      "5748  13.151922\n",
      "5749  12.542545\n",
      "5750  12.112311\n",
      "5751  12.301383\n",
      "5752  12.278393\n",
      "\n",
      "[5753 rows x 1 columns]\n"
     ]
    }
   ],
   "source": [
    "X_train, X_test, y_train, y_test = preprocessing.split(X,y)"
   ]
  },
  {
   "cell_type": "code",
   "execution_count": 8,
   "id": "f898622d",
   "metadata": {},
   "outputs": [
    {
     "data": {
      "text/plain": [
       "Pipeline(steps=[('columntransformer',\n",
       "                 ColumnTransformer(remainder='passthrough',\n",
       "                                   transformers=[('robustscaler',\n",
       "                                                  RobustScaler(),\n",
       "                                                  ['rooms', 'surface']),\n",
       "                                                 ('onehotencoder',\n",
       "                                                  OneHotEncoder(handle_unknown='ignore',\n",
       "                                                                sparse=False),\n",
       "                                                  ['neighborhood',\n",
       "                                                   'nhousetype'])])),\n",
       "                ('xgbregressor',\n",
       "                 XGBRegressor(base_score=0.5, booster='gbtree',\n",
       "                              colsample_bylevel=1, colsample_bynode=1,\n",
       "                              co...\n",
       "                              gamma=0, gpu_id=-1, importance_type=None,\n",
       "                              interaction_constraints='',\n",
       "                              learning_rate=0.300000012, max_delta_step=0,\n",
       "                              max_depth=6, min_child_weight=1, missing=nan,\n",
       "                              monotone_constraints='()', n_estimators=100,\n",
       "                              n_jobs=8, num_parallel_tree=1, predictor='auto',\n",
       "                              random_state=0, reg_alpha=0, reg_lambda=1,\n",
       "                              scale_pos_weight=1, subsample=1,\n",
       "                              tree_method='exact', validate_parameters=1,\n",
       "                              verbosity=None))])"
      ]
     },
     "execution_count": 8,
     "metadata": {},
     "output_type": "execute_result"
    }
   ],
   "source": [
    "preprocessing.model_basic.fit(X_train,y_train)"
   ]
  },
  {
   "cell_type": "code",
   "execution_count": 9,
   "id": "481a3787",
   "metadata": {},
   "outputs": [],
   "source": [
    "y_pred = utils.custom_pred(preprocessing.model_basic,X_test)"
   ]
  },
  {
   "cell_type": "code",
   "execution_count": 10,
   "id": "c3fc9af3",
   "metadata": {},
   "outputs": [
    {
     "data": {
      "text/plain": [
       "array([504000.72, 349849.66, 331177.94, ..., 244640.97, 109749.74,\n",
       "       469759.25], dtype=float32)"
      ]
     },
     "execution_count": 10,
     "metadata": {},
     "output_type": "execute_result"
    }
   ],
   "source": [
    "y_pred"
   ]
  },
  {
   "cell_type": "code",
   "execution_count": 11,
   "id": "4eee63a3",
   "metadata": {},
   "outputs": [],
   "source": [
    "y_test = np.exp(y_test)"
   ]
  },
  {
   "cell_type": "code",
   "execution_count": 12,
   "id": "831dcce2",
   "metadata": {},
   "outputs": [
    {
     "data": {
      "text/plain": [
       "0.07657630052953616"
      ]
     },
     "execution_count": 12,
     "metadata": {},
     "output_type": "execute_result"
    }
   ],
   "source": [
    "error = mean_squared_log_error(y_test,y_pred)\n",
    "error"
   ]
  },
  {
   "cell_type": "code",
   "execution_count": 13,
   "id": "1b67b366",
   "metadata": {},
   "outputs": [
    {
     "data": {
      "text/plain": [
       "array([504000.72, 349849.66, 331177.94, ..., 244640.97, 109749.74,\n",
       "       469759.25], dtype=float32)"
      ]
     },
     "execution_count": 13,
     "metadata": {},
     "output_type": "execute_result"
    }
   ],
   "source": [
    "y_pred"
   ]
  },
  {
   "cell_type": "code",
   "execution_count": null,
   "id": "5c92c14d",
   "metadata": {},
   "outputs": [],
   "source": []
  }
 ],
 "metadata": {
  "kernelspec": {
   "display_name": "Python 3 (ipykernel)",
   "language": "python",
   "name": "python3"
  },
  "language_info": {
   "codemirror_mode": {
    "name": "ipython",
    "version": 3
   },
   "file_extension": ".py",
   "mimetype": "text/x-python",
   "name": "python",
   "nbconvert_exporter": "python",
   "pygments_lexer": "ipython3",
   "version": "3.8.13"
  },
  "toc": {
   "base_numbering": 1,
   "nav_menu": {},
   "number_sections": true,
   "sideBar": true,
   "skip_h1_title": false,
   "title_cell": "Table of Contents",
   "title_sidebar": "Contents",
   "toc_cell": false,
   "toc_position": {},
   "toc_section_display": true,
   "toc_window_display": false
  }
 },
 "nbformat": 4,
 "nbformat_minor": 5
}

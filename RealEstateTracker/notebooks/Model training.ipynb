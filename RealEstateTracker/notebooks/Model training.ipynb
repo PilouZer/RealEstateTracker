{
 "cells": [
  {
   "cell_type": "code",
   "execution_count": 1,
   "id": "2b05cceb",
   "metadata": {},
   "outputs": [],
   "source": [
    "import pandas as pd\n",
    "import numpy as np\n",
    "import matplotlib.pyplot as plt\n",
    "import seaborn as sns \n",
    "from sklearn.model_selection import train_test_split"
   ]
  },
  {
   "cell_type": "code",
   "execution_count": 2,
   "id": "67b1a295",
   "metadata": {},
   "outputs": [
    {
     "name": "stdout",
     "output_type": "stream",
     "text": [
      "Obtaining file:///home/daniel/code/llenci/RealEstateTracker\n",
      "  Preparing metadata (setup.py) ... \u001b[?25ldone\n",
      "\u001b[?25hRequirement already satisfied: pip>=9 in /home/daniel/.pyenv/versions/3.8.12/envs/lewagon/lib/python3.8/site-packages (from RealEstateTracker==1.0) (22.1.2)\n",
      "Requirement already satisfied: setuptools>=26 in /home/daniel/.pyenv/versions/3.8.12/envs/lewagon/lib/python3.8/site-packages (from RealEstateTracker==1.0) (56.0.0)\n",
      "Requirement already satisfied: twine in /home/daniel/.pyenv/versions/3.8.12/envs/lewagon/lib/python3.8/site-packages (from RealEstateTracker==1.0) (4.0.0)\n",
      "Requirement already satisfied: wheel>=0.29 in /home/daniel/.pyenv/versions/3.8.12/envs/lewagon/lib/python3.8/site-packages (from RealEstateTracker==1.0) (0.37.1)\n",
      "Requirement already satisfied: numpy in /home/daniel/.pyenv/versions/3.8.12/envs/lewagon/lib/python3.8/site-packages (from RealEstateTracker==1.0) (1.18.5)\n",
      "Requirement already satisfied: pandas in /home/daniel/.pyenv/versions/3.8.12/envs/lewagon/lib/python3.8/site-packages (from RealEstateTracker==1.0) (1.3.5)\n",
      "Requirement already satisfied: scikit-learn==1.0.2. in /home/daniel/.pyenv/versions/3.8.12/envs/lewagon/lib/python3.8/site-packages (from RealEstateTracker==1.0) (1.0.2)\n",
      "Requirement already satisfied: xgboost in /home/daniel/.pyenv/versions/3.8.12/envs/lewagon/lib/python3.8/site-packages (from RealEstateTracker==1.0) (1.5.1)\n",
      "Requirement already satisfied: black in /home/daniel/.pyenv/versions/3.8.12/envs/lewagon/lib/python3.8/site-packages (from RealEstateTracker==1.0) (21.12b0)\n",
      "Requirement already satisfied: coverage in /home/daniel/.pyenv/versions/3.8.12/envs/lewagon/lib/python3.8/site-packages (from RealEstateTracker==1.0) (6.2)\n",
      "Requirement already satisfied: flake8 in /home/daniel/.pyenv/versions/3.8.12/envs/lewagon/lib/python3.8/site-packages (from RealEstateTracker==1.0) (4.0.1)\n",
      "Requirement already satisfied: pytest in /home/daniel/.pyenv/versions/3.8.12/envs/lewagon/lib/python3.8/site-packages (from RealEstateTracker==1.0) (6.2.5)\n",
      "Requirement already satisfied: yapf in /home/daniel/.pyenv/versions/3.8.12/envs/lewagon/lib/python3.8/site-packages (from RealEstateTracker==1.0) (0.32.0)\n",
      "Requirement already satisfied: gcsfs in /home/daniel/.pyenv/versions/3.8.12/envs/lewagon/lib/python3.8/site-packages (from RealEstateTracker==1.0) (2022.3.0)\n",
      "Requirement already satisfied: google-cloud-storage in /home/daniel/.pyenv/versions/3.8.12/envs/lewagon/lib/python3.8/site-packages (from RealEstateTracker==1.0) (2.3.0)\n",
      "Requirement already satisfied: mlflow in /home/daniel/.pyenv/versions/3.8.12/envs/lewagon/lib/python3.8/site-packages (from RealEstateTracker==1.0) (1.22.0)\n",
      "Requirement already satisfied: s3fs in /home/daniel/.pyenv/versions/3.8.12/envs/lewagon/lib/python3.8/site-packages (from RealEstateTracker==1.0) (2022.3.0)\n",
      "Requirement already satisfied: six>=1.14 in /home/daniel/.pyenv/versions/3.8.12/envs/lewagon/lib/python3.8/site-packages (from RealEstateTracker==1.0) (1.15.0)\n",
      "Requirement already satisfied: joblib in /home/daniel/.pyenv/versions/3.8.12/envs/lewagon/lib/python3.8/site-packages (from RealEstateTracker==1.0) (1.0.1)\n",
      "Requirement already satisfied: memoized-property in /home/daniel/.pyenv/versions/3.8.12/envs/lewagon/lib/python3.8/site-packages (from RealEstateTracker==1.0) (1.0.3)\n",
      "Requirement already satisfied: termcolor in /home/daniel/.pyenv/versions/3.8.12/envs/lewagon/lib/python3.8/site-packages (from RealEstateTracker==1.0) (1.1.0)\n",
      "Requirement already satisfied: scipy>=1.1.0 in /home/daniel/.pyenv/versions/3.8.12/envs/lewagon/lib/python3.8/site-packages (from scikit-learn==1.0.2.->RealEstateTracker==1.0) (1.7.3)\n",
      "Requirement already satisfied: threadpoolctl>=2.0.0 in /home/daniel/.pyenv/versions/3.8.12/envs/lewagon/lib/python3.8/site-packages (from scikit-learn==1.0.2.->RealEstateTracker==1.0) (3.0.0)\n",
      "Requirement already satisfied: platformdirs>=2 in /home/daniel/.pyenv/versions/3.8.12/envs/lewagon/lib/python3.8/site-packages (from black->RealEstateTracker==1.0) (2.4.1)\n",
      "Requirement already satisfied: mypy-extensions>=0.4.3 in /home/daniel/.pyenv/versions/3.8.12/envs/lewagon/lib/python3.8/site-packages (from black->RealEstateTracker==1.0) (0.4.3)\n",
      "Requirement already satisfied: pathspec<1,>=0.9.0 in /home/daniel/.pyenv/versions/3.8.12/envs/lewagon/lib/python3.8/site-packages (from black->RealEstateTracker==1.0) (0.9.0)\n",
      "Requirement already satisfied: click>=7.1.2 in /home/daniel/.pyenv/versions/3.8.12/envs/lewagon/lib/python3.8/site-packages (from black->RealEstateTracker==1.0) (8.0.3)\n",
      "Requirement already satisfied: typing-extensions>=3.10.0.0 in /home/daniel/.pyenv/versions/3.8.12/envs/lewagon/lib/python3.8/site-packages (from black->RealEstateTracker==1.0) (4.0.1)\n",
      "Requirement already satisfied: tomli<2.0.0,>=0.2.6 in /home/daniel/.pyenv/versions/3.8.12/envs/lewagon/lib/python3.8/site-packages (from black->RealEstateTracker==1.0) (1.2.3)\n",
      "Requirement already satisfied: pycodestyle<2.9.0,>=2.8.0 in /home/daniel/.pyenv/versions/3.8.12/envs/lewagon/lib/python3.8/site-packages (from flake8->RealEstateTracker==1.0) (2.8.0)\n",
      "Requirement already satisfied: mccabe<0.7.0,>=0.6.0 in /home/daniel/.pyenv/versions/3.8.12/envs/lewagon/lib/python3.8/site-packages (from flake8->RealEstateTracker==1.0) (0.6.1)\n",
      "Requirement already satisfied: pyflakes<2.5.0,>=2.4.0 in /home/daniel/.pyenv/versions/3.8.12/envs/lewagon/lib/python3.8/site-packages (from flake8->RealEstateTracker==1.0) (2.4.0)\n",
      "Requirement already satisfied: fsspec==2022.3.0 in /home/daniel/.pyenv/versions/3.8.12/envs/lewagon/lib/python3.8/site-packages (from gcsfs->RealEstateTracker==1.0) (2022.3.0)\n",
      "Requirement already satisfied: decorator>4.1.2 in /home/daniel/.pyenv/versions/3.8.12/envs/lewagon/lib/python3.8/site-packages (from gcsfs->RealEstateTracker==1.0) (5.1.0)\n",
      "Requirement already satisfied: google-auth>=1.2 in /home/daniel/.pyenv/versions/3.8.12/envs/lewagon/lib/python3.8/site-packages (from gcsfs->RealEstateTracker==1.0) (2.3.3)\n",
      "Requirement already satisfied: aiohttp<4 in /home/daniel/.pyenv/versions/3.8.12/envs/lewagon/lib/python3.8/site-packages (from gcsfs->RealEstateTracker==1.0) (3.8.1)\n",
      "Requirement already satisfied: google-auth-oauthlib in /home/daniel/.pyenv/versions/3.8.12/envs/lewagon/lib/python3.8/site-packages (from gcsfs->RealEstateTracker==1.0) (0.4.6)\n",
      "Requirement already satisfied: requests in /home/daniel/.pyenv/versions/3.8.12/envs/lewagon/lib/python3.8/site-packages (from gcsfs->RealEstateTracker==1.0) (2.27.1)\n",
      "Requirement already satisfied: google-resumable-media>=2.3.2 in /home/daniel/.pyenv/versions/3.8.12/envs/lewagon/lib/python3.8/site-packages (from google-cloud-storage->RealEstateTracker==1.0) (2.3.3)\n",
      "Requirement already satisfied: google-cloud-core<3.0dev,>=2.3.0 in /home/daniel/.pyenv/versions/3.8.12/envs/lewagon/lib/python3.8/site-packages (from google-cloud-storage->RealEstateTracker==1.0) (2.3.0)\n",
      "Requirement already satisfied: google-api-core!=2.0.*,!=2.1.*,!=2.2.*,!=2.3.0,<3.0.0dev,>=1.31.5 in /home/daniel/.pyenv/versions/3.8.12/envs/lewagon/lib/python3.8/site-packages (from google-cloud-storage->RealEstateTracker==1.0) (2.3.2)\n",
      "Requirement already satisfied: protobuf in /home/daniel/.pyenv/versions/3.8.12/envs/lewagon/lib/python3.8/site-packages (from google-cloud-storage->RealEstateTracker==1.0) (3.19.1)\n",
      "Requirement already satisfied: Flask in /home/daniel/.pyenv/versions/3.8.12/envs/lewagon/lib/python3.8/site-packages (from mlflow->RealEstateTracker==1.0) (2.0.2)\n",
      "Requirement already satisfied: cloudpickle in /home/daniel/.pyenv/versions/3.8.12/envs/lewagon/lib/python3.8/site-packages (from mlflow->RealEstateTracker==1.0) (2.0.0)\n",
      "Requirement already satisfied: gunicorn in /home/daniel/.pyenv/versions/3.8.12/envs/lewagon/lib/python3.8/site-packages (from mlflow->RealEstateTracker==1.0) (20.1.0)\n",
      "Requirement already satisfied: querystring-parser in /home/daniel/.pyenv/versions/3.8.12/envs/lewagon/lib/python3.8/site-packages (from mlflow->RealEstateTracker==1.0) (1.2.4)\n",
      "Requirement already satisfied: pytz in /home/daniel/.pyenv/versions/3.8.12/envs/lewagon/lib/python3.8/site-packages (from mlflow->RealEstateTracker==1.0) (2021.3)\n",
      "Requirement already satisfied: gitpython>=2.1.0 in /home/daniel/.pyenv/versions/3.8.12/envs/lewagon/lib/python3.8/site-packages (from mlflow->RealEstateTracker==1.0) (3.1.24)\n",
      "Requirement already satisfied: sqlparse>=0.3.1 in /home/daniel/.pyenv/versions/3.8.12/envs/lewagon/lib/python3.8/site-packages (from mlflow->RealEstateTracker==1.0) (0.4.2)\n",
      "Requirement already satisfied: entrypoints in /home/daniel/.pyenv/versions/3.8.12/envs/lewagon/lib/python3.8/site-packages (from mlflow->RealEstateTracker==1.0) (0.3)\n",
      "Requirement already satisfied: databricks-cli>=0.8.7 in /home/daniel/.pyenv/versions/3.8.12/envs/lewagon/lib/python3.8/site-packages (from mlflow->RealEstateTracker==1.0) (0.16.2)\n",
      "Requirement already satisfied: sqlalchemy in /home/daniel/.pyenv/versions/3.8.12/envs/lewagon/lib/python3.8/site-packages (from mlflow->RealEstateTracker==1.0) (1.4.29)\n",
      "Requirement already satisfied: packaging in /home/daniel/.pyenv/versions/3.8.12/envs/lewagon/lib/python3.8/site-packages (from mlflow->RealEstateTracker==1.0) (21.3)\n",
      "Requirement already satisfied: alembic<=1.4.1 in /home/daniel/.pyenv/versions/3.8.12/envs/lewagon/lib/python3.8/site-packages (from mlflow->RealEstateTracker==1.0) (1.4.1)\n",
      "Requirement already satisfied: docker>=4.0.0 in /home/daniel/.pyenv/versions/3.8.12/envs/lewagon/lib/python3.8/site-packages (from mlflow->RealEstateTracker==1.0) (5.0.3)\n",
      "Requirement already satisfied: prometheus-flask-exporter in /home/daniel/.pyenv/versions/3.8.12/envs/lewagon/lib/python3.8/site-packages (from mlflow->RealEstateTracker==1.0) (0.18.7)\n",
      "Requirement already satisfied: importlib-metadata!=4.7.0,>=3.7.0 in /home/daniel/.pyenv/versions/3.8.12/envs/lewagon/lib/python3.8/site-packages (from mlflow->RealEstateTracker==1.0) (4.10.0)\n",
      "Requirement already satisfied: pyyaml>=5.1 in /home/daniel/.pyenv/versions/3.8.12/envs/lewagon/lib/python3.8/site-packages (from mlflow->RealEstateTracker==1.0) (6.0)\n"
     ]
    },
    {
     "name": "stdout",
     "output_type": "stream",
     "text": [
      "Requirement already satisfied: python-dateutil>=2.7.3 in /home/daniel/.pyenv/versions/3.8.12/envs/lewagon/lib/python3.8/site-packages (from pandas->RealEstateTracker==1.0) (2.8.2)\n",
      "Requirement already satisfied: pluggy<2.0,>=0.12 in /home/daniel/.pyenv/versions/3.8.12/envs/lewagon/lib/python3.8/site-packages (from pytest->RealEstateTracker==1.0) (1.0.0)\n",
      "Requirement already satisfied: py>=1.8.2 in /home/daniel/.pyenv/versions/3.8.12/envs/lewagon/lib/python3.8/site-packages (from pytest->RealEstateTracker==1.0) (1.11.0)\n",
      "Requirement already satisfied: iniconfig in /home/daniel/.pyenv/versions/3.8.12/envs/lewagon/lib/python3.8/site-packages (from pytest->RealEstateTracker==1.0) (1.1.1)\n",
      "Requirement already satisfied: attrs>=19.2.0 in /home/daniel/.pyenv/versions/3.8.12/envs/lewagon/lib/python3.8/site-packages (from pytest->RealEstateTracker==1.0) (21.4.0)\n",
      "Requirement already satisfied: toml in /home/daniel/.pyenv/versions/3.8.12/envs/lewagon/lib/python3.8/site-packages (from pytest->RealEstateTracker==1.0) (0.10.2)\n",
      "Requirement already satisfied: aiobotocore~=2.2.0 in /home/daniel/.pyenv/versions/3.8.12/envs/lewagon/lib/python3.8/site-packages (from s3fs->RealEstateTracker==1.0) (2.2.0)\n",
      "Requirement already satisfied: keyring>=15.1 in /home/daniel/.pyenv/versions/3.8.12/envs/lewagon/lib/python3.8/site-packages (from twine->RealEstateTracker==1.0) (23.5.1)\n",
      "Requirement already satisfied: urllib3>=1.26.0 in /home/daniel/.pyenv/versions/3.8.12/envs/lewagon/lib/python3.8/site-packages (from twine->RealEstateTracker==1.0) (1.26.7)\n",
      "Requirement already satisfied: requests-toolbelt!=0.9.0,>=0.8.0 in /home/daniel/.pyenv/versions/3.8.12/envs/lewagon/lib/python3.8/site-packages (from twine->RealEstateTracker==1.0) (0.9.1)\n",
      "Requirement already satisfied: readme-renderer>=21.0 in /home/daniel/.pyenv/versions/3.8.12/envs/lewagon/lib/python3.8/site-packages (from twine->RealEstateTracker==1.0) (35.0)\n",
      "Requirement already satisfied: pkginfo>=1.8.1 in /home/daniel/.pyenv/versions/3.8.12/envs/lewagon/lib/python3.8/site-packages (from twine->RealEstateTracker==1.0) (1.8.2)\n",
      "Requirement already satisfied: rfc3986>=1.4.0 in /home/daniel/.pyenv/versions/3.8.12/envs/lewagon/lib/python3.8/site-packages (from twine->RealEstateTracker==1.0) (2.0.0)\n",
      "Requirement already satisfied: rich>=12.0.0 in /home/daniel/.pyenv/versions/3.8.12/envs/lewagon/lib/python3.8/site-packages (from twine->RealEstateTracker==1.0) (12.4.2)\n",
      "Requirement already satisfied: aioitertools>=0.5.1 in /home/daniel/.pyenv/versions/3.8.12/envs/lewagon/lib/python3.8/site-packages (from aiobotocore~=2.2.0->s3fs->RealEstateTracker==1.0) (0.8.0)\n",
      "Requirement already satisfied: wrapt>=1.10.10 in /home/daniel/.pyenv/versions/3.8.12/envs/lewagon/lib/python3.8/site-packages (from aiobotocore~=2.2.0->s3fs->RealEstateTracker==1.0) (1.12.1)\n",
      "Requirement already satisfied: botocore<1.24.22,>=1.24.21 in /home/daniel/.pyenv/versions/3.8.12/envs/lewagon/lib/python3.8/site-packages (from aiobotocore~=2.2.0->s3fs->RealEstateTracker==1.0) (1.24.21)\n",
      "Requirement already satisfied: async-timeout<5.0,>=4.0.0a3 in /home/daniel/.pyenv/versions/3.8.12/envs/lewagon/lib/python3.8/site-packages (from aiohttp<4->gcsfs->RealEstateTracker==1.0) (4.0.2)\n",
      "Requirement already satisfied: charset-normalizer<3.0,>=2.0 in /home/daniel/.pyenv/versions/3.8.12/envs/lewagon/lib/python3.8/site-packages (from aiohttp<4->gcsfs->RealEstateTracker==1.0) (2.0.10)\n",
      "Requirement already satisfied: aiosignal>=1.1.2 in /home/daniel/.pyenv/versions/3.8.12/envs/lewagon/lib/python3.8/site-packages (from aiohttp<4->gcsfs->RealEstateTracker==1.0) (1.2.0)\n",
      "Requirement already satisfied: frozenlist>=1.1.1 in /home/daniel/.pyenv/versions/3.8.12/envs/lewagon/lib/python3.8/site-packages (from aiohttp<4->gcsfs->RealEstateTracker==1.0) (1.2.0)\n",
      "Requirement already satisfied: multidict<7.0,>=4.5 in /home/daniel/.pyenv/versions/3.8.12/envs/lewagon/lib/python3.8/site-packages (from aiohttp<4->gcsfs->RealEstateTracker==1.0) (5.2.0)\n",
      "Requirement already satisfied: yarl<2.0,>=1.0 in /home/daniel/.pyenv/versions/3.8.12/envs/lewagon/lib/python3.8/site-packages (from aiohttp<4->gcsfs->RealEstateTracker==1.0) (1.7.2)\n",
      "Requirement already satisfied: Mako in /home/daniel/.pyenv/versions/3.8.12/envs/lewagon/lib/python3.8/site-packages (from alembic<=1.4.1->mlflow->RealEstateTracker==1.0) (1.1.6)\n",
      "Requirement already satisfied: python-editor>=0.3 in /home/daniel/.pyenv/versions/3.8.12/envs/lewagon/lib/python3.8/site-packages (from alembic<=1.4.1->mlflow->RealEstateTracker==1.0) (1.0.4)\n",
      "Requirement already satisfied: tabulate>=0.7.7 in /home/daniel/.pyenv/versions/3.8.12/envs/lewagon/lib/python3.8/site-packages (from databricks-cli>=0.8.7->mlflow->RealEstateTracker==1.0) (0.8.9)\n",
      "Requirement already satisfied: websocket-client>=0.32.0 in /home/daniel/.pyenv/versions/3.8.12/envs/lewagon/lib/python3.8/site-packages (from docker>=4.0.0->mlflow->RealEstateTracker==1.0) (1.2.3)\n",
      "Requirement already satisfied: gitdb<5,>=4.0.1 in /home/daniel/.pyenv/versions/3.8.12/envs/lewagon/lib/python3.8/site-packages (from gitpython>=2.1.0->mlflow->RealEstateTracker==1.0) (4.0.9)\n",
      "Requirement already satisfied: googleapis-common-protos<2.0dev,>=1.52.0 in /home/daniel/.pyenv/versions/3.8.12/envs/lewagon/lib/python3.8/site-packages (from google-api-core!=2.0.*,!=2.1.*,!=2.2.*,!=2.3.0,<3.0.0dev,>=1.31.5->google-cloud-storage->RealEstateTracker==1.0) (1.54.0)\n",
      "Requirement already satisfied: pyasn1-modules>=0.2.1 in /home/daniel/.pyenv/versions/3.8.12/envs/lewagon/lib/python3.8/site-packages (from google-auth>=1.2->gcsfs->RealEstateTracker==1.0) (0.2.8)\n",
      "Requirement already satisfied: rsa<5,>=3.1.4 in /home/daniel/.pyenv/versions/3.8.12/envs/lewagon/lib/python3.8/site-packages (from google-auth>=1.2->gcsfs->RealEstateTracker==1.0) (4.8)\n",
      "Requirement already satisfied: cachetools<5.0,>=2.0.0 in /home/daniel/.pyenv/versions/3.8.12/envs/lewagon/lib/python3.8/site-packages (from google-auth>=1.2->gcsfs->RealEstateTracker==1.0) (4.2.4)\n",
      "Requirement already satisfied: google-crc32c<2.0dev,>=1.0 in /home/daniel/.pyenv/versions/3.8.12/envs/lewagon/lib/python3.8/site-packages (from google-resumable-media>=2.3.2->google-cloud-storage->RealEstateTracker==1.0) (1.3.0)\n",
      "Requirement already satisfied: zipp>=0.5 in /home/daniel/.pyenv/versions/3.8.12/envs/lewagon/lib/python3.8/site-packages (from importlib-metadata!=4.7.0,>=3.7.0->mlflow->RealEstateTracker==1.0) (3.7.0)\n",
      "Requirement already satisfied: jeepney>=0.4.2 in /home/daniel/.pyenv/versions/3.8.12/envs/lewagon/lib/python3.8/site-packages (from keyring>=15.1->twine->RealEstateTracker==1.0) (0.8.0)\n",
      "Requirement already satisfied: SecretStorage>=3.2 in /home/daniel/.pyenv/versions/3.8.12/envs/lewagon/lib/python3.8/site-packages (from keyring>=15.1->twine->RealEstateTracker==1.0) (3.3.2)\n",
      "Requirement already satisfied: docutils>=0.13.1 in /home/daniel/.pyenv/versions/3.8.12/envs/lewagon/lib/python3.8/site-packages (from readme-renderer>=21.0->twine->RealEstateTracker==1.0) (0.18.1)\n",
      "Requirement already satisfied: bleach>=2.1.0 in /home/daniel/.pyenv/versions/3.8.12/envs/lewagon/lib/python3.8/site-packages (from readme-renderer>=21.0->twine->RealEstateTracker==1.0) (4.1.0)\n",
      "Requirement already satisfied: Pygments>=2.5.1 in /home/daniel/.pyenv/versions/3.8.12/envs/lewagon/lib/python3.8/site-packages (from readme-renderer>=21.0->twine->RealEstateTracker==1.0) (2.11.2)\n",
      "Requirement already satisfied: certifi>=2017.4.17 in /home/daniel/.pyenv/versions/3.8.12/envs/lewagon/lib/python3.8/site-packages (from requests->gcsfs->RealEstateTracker==1.0) (2021.10.8)\n",
      "Requirement already satisfied: idna<4,>=2.5 in /home/daniel/.pyenv/versions/3.8.12/envs/lewagon/lib/python3.8/site-packages (from requests->gcsfs->RealEstateTracker==1.0) (3.3)\n",
      "Requirement already satisfied: commonmark<0.10.0,>=0.9.0 in /home/daniel/.pyenv/versions/3.8.12/envs/lewagon/lib/python3.8/site-packages (from rich>=12.0.0->twine->RealEstateTracker==1.0) (0.9.1)\n",
      "Requirement already satisfied: greenlet!=0.4.17 in /home/daniel/.pyenv/versions/3.8.12/envs/lewagon/lib/python3.8/site-packages (from sqlalchemy->mlflow->RealEstateTracker==1.0) (1.1.2)\n",
      "Requirement already satisfied: itsdangerous>=2.0 in /home/daniel/.pyenv/versions/3.8.12/envs/lewagon/lib/python3.8/site-packages (from Flask->mlflow->RealEstateTracker==1.0) (2.0.1)\n",
      "Requirement already satisfied: Jinja2>=3.0 in /home/daniel/.pyenv/versions/3.8.12/envs/lewagon/lib/python3.8/site-packages (from Flask->mlflow->RealEstateTracker==1.0) (3.0.3)\n",
      "Requirement already satisfied: Werkzeug>=2.0 in /home/daniel/.pyenv/versions/3.8.12/envs/lewagon/lib/python3.8/site-packages (from Flask->mlflow->RealEstateTracker==1.0) (2.0.2)\n",
      "Requirement already satisfied: requests-oauthlib>=0.7.0 in /home/daniel/.pyenv/versions/3.8.12/envs/lewagon/lib/python3.8/site-packages (from google-auth-oauthlib->gcsfs->RealEstateTracker==1.0) (1.3.0)\n"
     ]
    },
    {
     "name": "stdout",
     "output_type": "stream",
     "text": [
      "Requirement already satisfied: pyparsing!=3.0.5,>=2.0.2 in /home/daniel/.pyenv/versions/3.8.12/envs/lewagon/lib/python3.8/site-packages (from packaging->mlflow->RealEstateTracker==1.0) (3.0.6)\n",
      "Requirement already satisfied: prometheus-client in /home/daniel/.pyenv/versions/3.8.12/envs/lewagon/lib/python3.8/site-packages (from prometheus-flask-exporter->mlflow->RealEstateTracker==1.0) (0.12.0)\n",
      "Requirement already satisfied: webencodings in /home/daniel/.pyenv/versions/3.8.12/envs/lewagon/lib/python3.8/site-packages (from bleach>=2.1.0->readme-renderer>=21.0->twine->RealEstateTracker==1.0) (0.5.1)\n",
      "Requirement already satisfied: jmespath<2.0.0,>=0.7.1 in /home/daniel/.pyenv/versions/3.8.12/envs/lewagon/lib/python3.8/site-packages (from botocore<1.24.22,>=1.24.21->aiobotocore~=2.2.0->s3fs->RealEstateTracker==1.0) (0.10.0)\n",
      "Requirement already satisfied: smmap<6,>=3.0.1 in /home/daniel/.pyenv/versions/3.8.12/envs/lewagon/lib/python3.8/site-packages (from gitdb<5,>=4.0.1->gitpython>=2.1.0->mlflow->RealEstateTracker==1.0) (5.0.0)\n",
      "Requirement already satisfied: MarkupSafe>=2.0 in /home/daniel/.pyenv/versions/3.8.12/envs/lewagon/lib/python3.8/site-packages (from Jinja2>=3.0->Flask->mlflow->RealEstateTracker==1.0) (2.0.1)\n",
      "Requirement already satisfied: pyasn1<0.5.0,>=0.4.6 in /home/daniel/.pyenv/versions/3.8.12/envs/lewagon/lib/python3.8/site-packages (from pyasn1-modules>=0.2.1->google-auth>=1.2->gcsfs->RealEstateTracker==1.0) (0.4.8)\n",
      "Requirement already satisfied: oauthlib>=3.0.0 in /home/daniel/.pyenv/versions/3.8.12/envs/lewagon/lib/python3.8/site-packages (from requests-oauthlib>=0.7.0->google-auth-oauthlib->gcsfs->RealEstateTracker==1.0) (3.1.1)\n",
      "Requirement already satisfied: cryptography>=2.0 in /home/daniel/.pyenv/versions/3.8.12/envs/lewagon/lib/python3.8/site-packages (from SecretStorage>=3.2->keyring>=15.1->twine->RealEstateTracker==1.0) (37.0.2)\n",
      "Requirement already satisfied: cffi>=1.12 in /home/daniel/.pyenv/versions/3.8.12/envs/lewagon/lib/python3.8/site-packages (from cryptography>=2.0->SecretStorage>=3.2->keyring>=15.1->twine->RealEstateTracker==1.0) (1.15.0)\n",
      "Requirement already satisfied: pycparser in /home/daniel/.pyenv/versions/3.8.12/envs/lewagon/lib/python3.8/site-packages (from cffi>=1.12->cryptography>=2.0->SecretStorage>=3.2->keyring>=15.1->twine->RealEstateTracker==1.0) (2.21)\n",
      "Installing collected packages: RealEstateTracker\n",
      "  Attempting uninstall: RealEstateTracker\n",
      "    Found existing installation: RealEstateTracker 1.0\n",
      "    Uninstalling RealEstateTracker-1.0:\n",
      "      Successfully uninstalled RealEstateTracker-1.0\n",
      "  Running setup.py develop for RealEstateTracker\n",
      "Successfully installed RealEstateTracker-1.0\n"
     ]
    }
   ],
   "source": [
    "!pip install -e .."
   ]
  },
  {
   "cell_type": "code",
   "execution_count": 3,
   "id": "f035b5bc",
   "metadata": {},
   "outputs": [],
   "source": [
    "from RealEstateTracker import preprocessing, utils\n"
   ]
  },
  {
   "cell_type": "code",
   "execution_count": 4,
   "id": "320e4de3",
   "metadata": {},
   "outputs": [],
   "source": [
    "%load_ext autoreload\n",
    "%autoreload 2"
   ]
  },
  {
   "cell_type": "code",
   "execution_count": 5,
   "id": "b5b38234",
   "metadata": {},
   "outputs": [
    {
     "name": "stderr",
     "output_type": "stream",
     "text": [
      "/home/daniel/code/llenci/RealEstateTracker/RealEstateTracker/preprocessing.py:18: SettingWithCopyWarning: \n",
      "A value is trying to be set on a copy of a slice from a DataFrame.\n",
      "Try using .loc[row_indexer,col_indexer] = value instead\n",
      "\n",
      "See the caveats in the documentation: https://pandas.pydata.org/pandas-docs/stable/user_guide/indexing.html#returning-a-view-versus-a-copy\n",
      "  df_nonull[\"surface\"] = new[0]\n",
      "/home/daniel/code/llenci/RealEstateTracker/RealEstateTracker/preprocessing.py:44: FutureWarning: The default value of regex will change from True to False in a future version. In addition, single character regular expressions will *not* be treated as literal strings when regex=True.\n",
      "  new[0] = new[0].str.replace(\".\",\"\")\n",
      "/home/daniel/code/llenci/RealEstateTracker/RealEstateTracker/preprocessing.py:49: SettingWithCopyWarning: \n",
      "A value is trying to be set on a copy of a slice from a DataFrame.\n",
      "Try using .loc[row_indexer,col_indexer] = value instead\n",
      "\n",
      "See the caveats in the documentation: https://pandas.pydata.org/pandas-docs/stable/user_guide/indexing.html#returning-a-view-versus-a-copy\n",
      "  df[\"price\"] = df[\"price\"].astype(float)\n"
     ]
    }
   ],
   "source": [
    "df = preprocessing.preprocess()\n"
   ]
  },
  {
   "cell_type": "code",
   "execution_count": 6,
   "id": "df007905",
   "metadata": {},
   "outputs": [],
   "source": [
    "X,y = preprocessing.X_y(df)"
   ]
  },
  {
   "cell_type": "code",
   "execution_count": 7,
   "id": "ff27548b",
   "metadata": {},
   "outputs": [
    {
     "name": "stdout",
     "output_type": "stream",
     "text": [
      "DEBUG: y:\n",
      "          price\n",
      "0     13.247232\n",
      "1     12.645939\n",
      "2     12.301383\n",
      "3     12.049419\n",
      "4     12.818552\n",
      "...         ...\n",
      "5748  13.151922\n",
      "5749  12.542545\n",
      "5750  12.112311\n",
      "5751  12.301383\n",
      "5752  12.278393\n",
      "\n",
      "[5753 rows x 1 columns]\n"
     ]
    }
   ],
   "source": [
    "X_train, X_test, y_train, y_test = preprocessing.split(X,y, test_size = 0.2, takelog=True)\n"
   ]
  },
  {
   "cell_type": "code",
   "execution_count": 8,
   "id": "d2ba088c",
   "metadata": {},
   "outputs": [
    {
     "name": "stdout",
     "output_type": "stream",
     "text": [
      "def split(X, y, test_size = 0.2, takelog=True):\n",
      "    if takelog:\n",
      "        y = np.log(y)\n",
      "    print(f\"DEBUG: y:\\n{y}\")\n",
      "    \"\"\"Splits data AND returns the log scale of y\"\"\"\n",
      "    return train_test_split(X, y, test_size=test_size)\n",
      "\n"
     ]
    }
   ],
   "source": [
    "import inspect\n",
    "\n",
    "lines = inspect.getsource(preprocessing.split)\n",
    "print(lines)"
   ]
  },
  {
   "cell_type": "code",
   "execution_count": 9,
   "id": "e3760de3",
   "metadata": {},
   "outputs": [
    {
     "data": {
      "text/html": [
       "<div>\n",
       "<style scoped>\n",
       "    .dataframe tbody tr th:only-of-type {\n",
       "        vertical-align: middle;\n",
       "    }\n",
       "\n",
       "    .dataframe tbody tr th {\n",
       "        vertical-align: top;\n",
       "    }\n",
       "\n",
       "    .dataframe thead th {\n",
       "        text-align: right;\n",
       "    }\n",
       "</style>\n",
       "<table border=\"1\" class=\"dataframe\">\n",
       "  <thead>\n",
       "    <tr style=\"text-align: right;\">\n",
       "      <th></th>\n",
       "      <th>price</th>\n",
       "    </tr>\n",
       "  </thead>\n",
       "  <tbody>\n",
       "    <tr>\n",
       "      <th>2803</th>\n",
       "      <td>12.487485</td>\n",
       "    </tr>\n",
       "    <tr>\n",
       "      <th>64</th>\n",
       "      <td>12.676076</td>\n",
       "    </tr>\n",
       "    <tr>\n",
       "      <th>1223</th>\n",
       "      <td>13.527828</td>\n",
       "    </tr>\n",
       "    <tr>\n",
       "      <th>570</th>\n",
       "      <td>11.976659</td>\n",
       "    </tr>\n",
       "    <tr>\n",
       "      <th>741</th>\n",
       "      <td>12.429216</td>\n",
       "    </tr>\n",
       "    <tr>\n",
       "      <th>...</th>\n",
       "      <td>...</td>\n",
       "    </tr>\n",
       "    <tr>\n",
       "      <th>2782</th>\n",
       "      <td>11.775290</td>\n",
       "    </tr>\n",
       "    <tr>\n",
       "      <th>2480</th>\n",
       "      <td>13.721200</td>\n",
       "    </tr>\n",
       "    <tr>\n",
       "      <th>1950</th>\n",
       "      <td>13.455974</td>\n",
       "    </tr>\n",
       "    <tr>\n",
       "      <th>3509</th>\n",
       "      <td>12.296827</td>\n",
       "    </tr>\n",
       "    <tr>\n",
       "      <th>3321</th>\n",
       "      <td>13.429848</td>\n",
       "    </tr>\n",
       "  </tbody>\n",
       "</table>\n",
       "<p>1151 rows × 1 columns</p>\n",
       "</div>"
      ],
      "text/plain": [
       "          price\n",
       "2803  12.487485\n",
       "64    12.676076\n",
       "1223  13.527828\n",
       "570   11.976659\n",
       "741   12.429216\n",
       "...         ...\n",
       "2782  11.775290\n",
       "2480  13.721200\n",
       "1950  13.455974\n",
       "3509  12.296827\n",
       "3321  13.429848\n",
       "\n",
       "[1151 rows x 1 columns]"
      ]
     },
     "execution_count": 9,
     "metadata": {},
     "output_type": "execute_result"
    }
   ],
   "source": [
    "y_test"
   ]
  },
  {
   "cell_type": "code",
   "execution_count": 17,
   "id": "b2c3e738",
   "metadata": {},
   "outputs": [],
   "source": [
    "model = preprocessing.model_basic"
   ]
  },
  {
   "cell_type": "code",
   "execution_count": 18,
   "id": "e51cd519",
   "metadata": {},
   "outputs": [
    {
     "data": {
      "text/plain": [
       "Pipeline(steps=[('columntransformer',\n",
       "                 ColumnTransformer(remainder='passthrough',\n",
       "                                   transformers=[('robustscaler',\n",
       "                                                  RobustScaler(),\n",
       "                                                  ['rooms', 'surface']),\n",
       "                                                 ('onehotencoder',\n",
       "                                                  OneHotEncoder(handle_unknown='ignore',\n",
       "                                                                sparse=False),\n",
       "                                                  ['neighborhood',\n",
       "                                                   'nhousetype'])])),\n",
       "                ('xgbregressor',\n",
       "                 XGBRegressor(base_score=0.5, booster='gbtree',\n",
       "                              colsample_bylevel=1, colsample_bynode=1,\n",
       "                              co...\n",
       "                              gamma=0, gpu_id=-1, importance_type=None,\n",
       "                              interaction_constraints='',\n",
       "                              learning_rate=0.300000012, max_delta_step=0,\n",
       "                              max_depth=6, min_child_weight=1, missing=nan,\n",
       "                              monotone_constraints='()', n_estimators=100,\n",
       "                              n_jobs=6, num_parallel_tree=1, predictor='auto',\n",
       "                              random_state=0, reg_alpha=0, reg_lambda=1,\n",
       "                              scale_pos_weight=1, subsample=1,\n",
       "                              tree_method='exact', validate_parameters=1,\n",
       "                              verbosity=None))])"
      ]
     },
     "execution_count": 18,
     "metadata": {},
     "output_type": "execute_result"
    }
   ],
   "source": [
    "model.fit(X_train,y_train)"
   ]
  },
  {
   "cell_type": "code",
   "execution_count": 19,
   "id": "87a8c841",
   "metadata": {},
   "outputs": [],
   "source": [
    "y_pred = utils.custom_pred(model, X_test)"
   ]
  },
  {
   "cell_type": "code",
   "execution_count": 20,
   "id": "d8ab8341",
   "metadata": {},
   "outputs": [
    {
     "data": {
      "text/plain": [
       "array([271284.5 , 304970.62, 795349.06, ..., 700558.3 , 196276.52,\n",
       "       482346.1 ], dtype=float32)"
      ]
     },
     "execution_count": 20,
     "metadata": {},
     "output_type": "execute_result"
    }
   ],
   "source": [
    "y_pred"
   ]
  },
  {
   "cell_type": "code",
   "execution_count": 14,
   "id": "44035869",
   "metadata": {},
   "outputs": [],
   "source": [
    "from sklearn.metrics import mean_squared_log_error"
   ]
  },
  {
   "cell_type": "code",
   "execution_count": 23,
   "id": "dd9fc078",
   "metadata": {},
   "outputs": [],
   "source": [
    "y_test = np.exp(y_test)"
   ]
  },
  {
   "cell_type": "code",
   "execution_count": 24,
   "id": "2ab1d1ae",
   "metadata": {},
   "outputs": [
    {
     "data": {
      "text/plain": [
       "0.0713299291765771"
      ]
     },
     "execution_count": 24,
     "metadata": {},
     "output_type": "execute_result"
    }
   ],
   "source": [
    "mean_squared_log_error(y_test , y_pred)"
   ]
  },
  {
   "cell_type": "code",
   "execution_count": 26,
   "id": "37c34dcd",
   "metadata": {},
   "outputs": [
    {
     "name": "stdout",
     "output_type": "stream",
     "text": [
      "Model saved as model.joblib\n"
     ]
    }
   ],
   "source": [
    "utils.save_model(model)"
   ]
  },
  {
   "cell_type": "code",
   "execution_count": 16,
   "id": "f0a860e8",
   "metadata": {},
   "outputs": [
    {
     "data": {
      "text/plain": [
       "array([271284.5 , 304970.62, 795349.06, ..., 700558.3 , 196276.52,\n",
       "       482346.1 ], dtype=float32)"
      ]
     },
     "execution_count": 16,
     "metadata": {},
     "output_type": "execute_result"
    }
   ],
   "source": [
    "y_pred"
   ]
  }
 ],
 "metadata": {
  "kernelspec": {
   "display_name": "Python 3 (ipykernel)",
   "language": "python",
   "name": "python3"
  },
  "language_info": {
   "codemirror_mode": {
    "name": "ipython",
    "version": 3
   },
   "file_extension": ".py",
   "mimetype": "text/x-python",
   "name": "python",
   "nbconvert_exporter": "python",
   "pygments_lexer": "ipython3",
   "version": "3.9.12"
  },
  "toc": {
   "base_numbering": 1,
   "nav_menu": {},
   "number_sections": true,
   "sideBar": true,
   "skip_h1_title": false,
   "title_cell": "Table of Contents",
   "title_sidebar": "Contents",
   "toc_cell": false,
   "toc_position": {},
   "toc_section_display": true,
   "toc_window_display": false
  }
 },
 "nbformat": 4,
 "nbformat_minor": 5
}

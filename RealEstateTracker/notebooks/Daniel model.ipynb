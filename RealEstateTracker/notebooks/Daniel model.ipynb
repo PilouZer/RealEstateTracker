{
 "cells": [
  {
   "cell_type": "code",
   "execution_count": 13,
   "id": "3cfa318f",
   "metadata": {},
   "outputs": [],
   "source": [
    "from RealEstateTracker import preprocessing, utils\n",
    "import pandas as pd\n",
    "import numpy as np\n",
    "import joblib"
   ]
  },
  {
   "cell_type": "code",
   "execution_count": 2,
   "id": "59b899ea",
   "metadata": {},
   "outputs": [],
   "source": [
    "%load_ext autoreload\n",
    "%autoreload 2"
   ]
  },
  {
   "cell_type": "code",
   "execution_count": 3,
   "id": "7fdd4b56",
   "metadata": {},
   "outputs": [
    {
     "name": "stderr",
     "output_type": "stream",
     "text": [
      "/home/daniel/code/llenci/RealEstateTracker/RealEstateTracker/preprocessing.py:20: SettingWithCopyWarning: \n",
      "A value is trying to be set on a copy of a slice from a DataFrame.\n",
      "Try using .loc[row_indexer,col_indexer] = value instead\n",
      "\n",
      "See the caveats in the documentation: https://pandas.pydata.org/pandas-docs/stable/user_guide/indexing.html#returning-a-view-versus-a-copy\n",
      "  df_nonull[\"surface\"] = new[0]\n",
      "/home/daniel/code/llenci/RealEstateTracker/RealEstateTracker/preprocessing.py:46: FutureWarning: The default value of regex will change from True to False in a future version. In addition, single character regular expressions will *not* be treated as literal strings when regex=True.\n",
      "  new[0] = new[0].str.replace(\".\",\"\")\n",
      "/home/daniel/code/llenci/RealEstateTracker/RealEstateTracker/preprocessing.py:51: SettingWithCopyWarning: \n",
      "A value is trying to be set on a copy of a slice from a DataFrame.\n",
      "Try using .loc[row_indexer,col_indexer] = value instead\n",
      "\n",
      "See the caveats in the documentation: https://pandas.pydata.org/pandas-docs/stable/user_guide/indexing.html#returning-a-view-versus-a-copy\n",
      "  df[\"price\"] = df[\"price\"].astype(float)\n"
     ]
    }
   ],
   "source": [
    "df = preprocessing.preprocess()"
   ]
  },
  {
   "cell_type": "code",
   "execution_count": 4,
   "id": "9af074f2",
   "metadata": {},
   "outputs": [
    {
     "data": {
      "text/html": [
       "<div>\n",
       "<style scoped>\n",
       "    .dataframe tbody tr th:only-of-type {\n",
       "        vertical-align: middle;\n",
       "    }\n",
       "\n",
       "    .dataframe tbody tr th {\n",
       "        vertical-align: top;\n",
       "    }\n",
       "\n",
       "    .dataframe thead th {\n",
       "        text-align: right;\n",
       "    }\n",
       "</style>\n",
       "<table border=\"1\" class=\"dataframe\">\n",
       "  <thead>\n",
       "    <tr style=\"text-align: right;\">\n",
       "      <th></th>\n",
       "      <th>price</th>\n",
       "      <th>rooms</th>\n",
       "      <th>surface</th>\n",
       "      <th>neighborhood</th>\n",
       "      <th>nhousetype</th>\n",
       "    </tr>\n",
       "  </thead>\n",
       "  <tbody>\n",
       "    <tr>\n",
       "      <th>0</th>\n",
       "      <td>566500.0</td>\n",
       "      <td>2.0</td>\n",
       "      <td>87.0</td>\n",
       "      <td>Chamberí</td>\n",
       "      <td>Piso</td>\n",
       "    </tr>\n",
       "    <tr>\n",
       "      <th>1</th>\n",
       "      <td>310500.0</td>\n",
       "      <td>3.0</td>\n",
       "      <td>78.0</td>\n",
       "      <td>Retiro</td>\n",
       "      <td>Piso</td>\n",
       "    </tr>\n",
       "    <tr>\n",
       "      <th>2</th>\n",
       "      <td>220000.0</td>\n",
       "      <td>4.0</td>\n",
       "      <td>103.0</td>\n",
       "      <td>Carabanchel</td>\n",
       "      <td>Piso</td>\n",
       "    </tr>\n",
       "    <tr>\n",
       "      <th>3</th>\n",
       "      <td>171000.0</td>\n",
       "      <td>2.0</td>\n",
       "      <td>81.0</td>\n",
       "      <td>Villa de Vallecas</td>\n",
       "      <td>Piso</td>\n",
       "    </tr>\n",
       "    <tr>\n",
       "      <th>4</th>\n",
       "      <td>369000.0</td>\n",
       "      <td>3.0</td>\n",
       "      <td>83.0</td>\n",
       "      <td>Centro</td>\n",
       "      <td>Piso</td>\n",
       "    </tr>\n",
       "    <tr>\n",
       "      <th>...</th>\n",
       "      <td>...</td>\n",
       "      <td>...</td>\n",
       "      <td>...</td>\n",
       "      <td>...</td>\n",
       "      <td>...</td>\n",
       "    </tr>\n",
       "    <tr>\n",
       "      <th>5731</th>\n",
       "      <td>515000.0</td>\n",
       "      <td>4.0</td>\n",
       "      <td>106.0</td>\n",
       "      <td>Centro</td>\n",
       "      <td>Piso</td>\n",
       "    </tr>\n",
       "    <tr>\n",
       "      <th>5732</th>\n",
       "      <td>280000.0</td>\n",
       "      <td>3.0</td>\n",
       "      <td>99.0</td>\n",
       "      <td>San Blas</td>\n",
       "      <td>Piso</td>\n",
       "    </tr>\n",
       "    <tr>\n",
       "      <th>5733</th>\n",
       "      <td>182100.0</td>\n",
       "      <td>1.0</td>\n",
       "      <td>52.0</td>\n",
       "      <td>Villaverde</td>\n",
       "      <td>Ático</td>\n",
       "    </tr>\n",
       "    <tr>\n",
       "      <th>5734</th>\n",
       "      <td>220000.0</td>\n",
       "      <td>1.0</td>\n",
       "      <td>42.0</td>\n",
       "      <td>Centro</td>\n",
       "      <td>Ático</td>\n",
       "    </tr>\n",
       "    <tr>\n",
       "      <th>5735</th>\n",
       "      <td>215000.0</td>\n",
       "      <td>3.0</td>\n",
       "      <td>66.0</td>\n",
       "      <td>San Blas</td>\n",
       "      <td>Piso</td>\n",
       "    </tr>\n",
       "  </tbody>\n",
       "</table>\n",
       "<p>5736 rows × 5 columns</p>\n",
       "</div>"
      ],
      "text/plain": [
       "         price  rooms  surface       neighborhood nhousetype\n",
       "0     566500.0    2.0     87.0           Chamberí       Piso\n",
       "1     310500.0    3.0     78.0             Retiro       Piso\n",
       "2     220000.0    4.0    103.0        Carabanchel       Piso\n",
       "3     171000.0    2.0     81.0  Villa de Vallecas       Piso\n",
       "4     369000.0    3.0     83.0             Centro       Piso\n",
       "...        ...    ...      ...                ...        ...\n",
       "5731  515000.0    4.0    106.0             Centro       Piso\n",
       "5732  280000.0    3.0     99.0           San Blas       Piso\n",
       "5733  182100.0    1.0     52.0         Villaverde      Ático\n",
       "5734  220000.0    1.0     42.0             Centro      Ático\n",
       "5735  215000.0    3.0     66.0           San Blas       Piso\n",
       "\n",
       "[5736 rows x 5 columns]"
      ]
     },
     "execution_count": 4,
     "metadata": {},
     "output_type": "execute_result"
    }
   ],
   "source": [
    "df"
   ]
  },
  {
   "cell_type": "code",
   "execution_count": 5,
   "id": "db908f1f",
   "metadata": {},
   "outputs": [],
   "source": [
    "model = preprocessing.model_basic"
   ]
  },
  {
   "cell_type": "code",
   "execution_count": 6,
   "id": "4628aace",
   "metadata": {},
   "outputs": [],
   "source": [
    "X,y = preprocessing.X_y(df)"
   ]
  },
  {
   "cell_type": "code",
   "execution_count": 7,
   "id": "014658c8",
   "metadata": {},
   "outputs": [
    {
     "name": "stdout",
     "output_type": "stream",
     "text": [
      "DEBUG: y:\n",
      "          price\n",
      "0     13.247232\n",
      "1     12.645939\n",
      "2     12.301383\n",
      "3     12.049419\n",
      "4     12.818552\n",
      "...         ...\n",
      "5731  13.151922\n",
      "5732  12.542545\n",
      "5733  12.112311\n",
      "5734  12.301383\n",
      "5735  12.278393\n",
      "\n",
      "[5736 rows x 1 columns]\n"
     ]
    }
   ],
   "source": [
    "X_train, X_test, y_train, y_test = preprocessing.split(X,y)\n"
   ]
  },
  {
   "cell_type": "code",
   "execution_count": 8,
   "id": "3babc87e",
   "metadata": {
    "scrolled": true
   },
   "outputs": [
    {
     "data": {
      "text/plain": [
       "Pipeline(steps=[('columntransformer',\n",
       "                 ColumnTransformer(remainder='passthrough',\n",
       "                                   transformers=[('robustscaler',\n",
       "                                                  RobustScaler(),\n",
       "                                                  ['rooms', 'surface']),\n",
       "                                                 ('onehotencoder',\n",
       "                                                  OneHotEncoder(handle_unknown='ignore',\n",
       "                                                                sparse=False),\n",
       "                                                  ['neighborhood',\n",
       "                                                   'nhousetype'])])),\n",
       "                ('xgbregressor',\n",
       "                 XGBRegressor(base_score=0.5, booster='gbtree',\n",
       "                              colsample_bylevel=1, colsample_bynode=1,\n",
       "                              co...\n",
       "                              gamma=0, gpu_id=-1, importance_type=None,\n",
       "                              interaction_constraints='',\n",
       "                              learning_rate=0.300000012, max_delta_step=0,\n",
       "                              max_depth=6, min_child_weight=1, missing=nan,\n",
       "                              monotone_constraints='()', n_estimators=100,\n",
       "                              n_jobs=6, num_parallel_tree=1, predictor='auto',\n",
       "                              random_state=0, reg_alpha=0, reg_lambda=1,\n",
       "                              scale_pos_weight=1, subsample=1,\n",
       "                              tree_method='exact', validate_parameters=1,\n",
       "                              verbosity=None))])"
      ]
     },
     "execution_count": 8,
     "metadata": {},
     "output_type": "execute_result"
    }
   ],
   "source": [
    "model.fit(X_train,y_train)"
   ]
  },
  {
   "cell_type": "code",
   "execution_count": 9,
   "id": "eea6d6cc",
   "metadata": {},
   "outputs": [],
   "source": [
    "y_pred = utils.custom_pred(model,X_test)"
   ]
  },
  {
   "cell_type": "code",
   "execution_count": 10,
   "id": "64aaff2c",
   "metadata": {},
   "outputs": [
    {
     "data": {
      "text/plain": [
       "0.07389520040753152"
      ]
     },
     "execution_count": 10,
     "metadata": {},
     "output_type": "execute_result"
    }
   ],
   "source": [
    "from sklearn.metrics import mean_squared_log_error\n",
    "\n",
    "y_test = np.exp(y_test)\n",
    "mean_squared_log_error(y_test,y_pred)"
   ]
  },
  {
   "cell_type": "code",
   "execution_count": 11,
   "id": "ff8b0667",
   "metadata": {},
   "outputs": [
    {
     "name": "stdout",
     "output_type": "stream",
     "text": [
      "Model saved as model.joblib\n"
     ]
    }
   ],
   "source": [
    "utils.save_model(model)"
   ]
  },
  {
   "cell_type": "markdown",
   "id": "c0cdb11b",
   "metadata": {},
   "source": [
    "## WEB TUNING"
   ]
  },
  {
   "cell_type": "code",
   "execution_count": null,
   "id": "09ddc9cf",
   "metadata": {},
   "outputs": [],
   "source": [
    "param1 = {\"pick_rooms\": pick_rooms,\n",
    "         \"surface\": surface,\n",
    "         \"neighborhood\": neighborhood,\n",
    "         'type': df1_trans[type]}\n",
    "\n",
    "param = pd.DataFrame(param1, index=[0]).rename(columns={\"pick_rooms\":\"rooms\",\n",
    "                                                \"surface\": \"surface\",\n",
    "                                                \"neighborhood\": \"neighborhood\",\n",
    "                                                \"type\": \"nhousetype\"})"
   ]
  },
  {
   "cell_type": "code",
   "execution_count": 14,
   "id": "e9cb9309",
   "metadata": {},
   "outputs": [
    {
     "ename": "FileNotFoundError",
     "evalue": "[Errno 2] No such file or directory: '../model.joblib'",
     "output_type": "error",
     "traceback": [
      "\u001b[0;31m---------------------------------------------------------------------------\u001b[0m",
      "\u001b[0;31mFileNotFoundError\u001b[0m                         Traceback (most recent call last)",
      "\u001b[0;32m/tmp/ipykernel_17188/2374752389.py\u001b[0m in \u001b[0;36m<module>\u001b[0;34m\u001b[0m\n\u001b[0;32m----> 1\u001b[0;31m \u001b[0mpotato\u001b[0m \u001b[0;34m=\u001b[0m \u001b[0mjoblib\u001b[0m\u001b[0;34m.\u001b[0m\u001b[0mload\u001b[0m\u001b[0;34m(\u001b[0m\u001b[0;34m\"../model.joblib\"\u001b[0m\u001b[0;34m)\u001b[0m\u001b[0;34m\u001b[0m\u001b[0;34m\u001b[0m\u001b[0m\n\u001b[0m\u001b[1;32m      2\u001b[0m \u001b[0;34m\u001b[0m\u001b[0m\n\u001b[1;32m      3\u001b[0m \u001b[0mpred\u001b[0m \u001b[0;34m=\u001b[0m \u001b[0mutils\u001b[0m\u001b[0;34m.\u001b[0m\u001b[0mcustom_pred\u001b[0m\u001b[0;34m(\u001b[0m\u001b[0mpotato\u001b[0m\u001b[0;34m,\u001b[0m\u001b[0mparam\u001b[0m\u001b[0;34m)\u001b[0m\u001b[0;34m[\u001b[0m\u001b[0;36m0\u001b[0m\u001b[0;34m]\u001b[0m\u001b[0;34m\u001b[0m\u001b[0;34m\u001b[0m\u001b[0m\n",
      "\u001b[0;32m~/.pyenv/versions/3.8.12/envs/lewagon/lib/python3.8/site-packages/joblib/numpy_pickle.py\u001b[0m in \u001b[0;36mload\u001b[0;34m(filename, mmap_mode)\u001b[0m\n\u001b[1;32m    575\u001b[0m             \u001b[0mobj\u001b[0m \u001b[0;34m=\u001b[0m \u001b[0m_unpickle\u001b[0m\u001b[0;34m(\u001b[0m\u001b[0mfobj\u001b[0m\u001b[0;34m)\u001b[0m\u001b[0;34m\u001b[0m\u001b[0;34m\u001b[0m\u001b[0m\n\u001b[1;32m    576\u001b[0m     \u001b[0;32melse\u001b[0m\u001b[0;34m:\u001b[0m\u001b[0;34m\u001b[0m\u001b[0;34m\u001b[0m\u001b[0m\n\u001b[0;32m--> 577\u001b[0;31m         \u001b[0;32mwith\u001b[0m \u001b[0mopen\u001b[0m\u001b[0;34m(\u001b[0m\u001b[0mfilename\u001b[0m\u001b[0;34m,\u001b[0m \u001b[0;34m'rb'\u001b[0m\u001b[0;34m)\u001b[0m \u001b[0;32mas\u001b[0m \u001b[0mf\u001b[0m\u001b[0;34m:\u001b[0m\u001b[0;34m\u001b[0m\u001b[0;34m\u001b[0m\u001b[0m\n\u001b[0m\u001b[1;32m    578\u001b[0m             \u001b[0;32mwith\u001b[0m \u001b[0m_read_fileobject\u001b[0m\u001b[0;34m(\u001b[0m\u001b[0mf\u001b[0m\u001b[0;34m,\u001b[0m \u001b[0mfilename\u001b[0m\u001b[0;34m,\u001b[0m \u001b[0mmmap_mode\u001b[0m\u001b[0;34m)\u001b[0m \u001b[0;32mas\u001b[0m \u001b[0mfobj\u001b[0m\u001b[0;34m:\u001b[0m\u001b[0;34m\u001b[0m\u001b[0;34m\u001b[0m\u001b[0m\n\u001b[1;32m    579\u001b[0m                 \u001b[0;32mif\u001b[0m \u001b[0misinstance\u001b[0m\u001b[0;34m(\u001b[0m\u001b[0mfobj\u001b[0m\u001b[0;34m,\u001b[0m \u001b[0mstr\u001b[0m\u001b[0;34m)\u001b[0m\u001b[0;34m:\u001b[0m\u001b[0;34m\u001b[0m\u001b[0;34m\u001b[0m\u001b[0m\n",
      "\u001b[0;31mFileNotFoundError\u001b[0m: [Errno 2] No such file or directory: '../model.joblib'"
     ]
    }
   ],
   "source": [
    "potato = joblib.load(\"../RealEstateTracker/model.joblib\")\n",
    "\n",
    "pred = utils.custom_pred(potato,param)[0]"
   ]
  }
 ],
 "metadata": {
  "kernelspec": {
   "display_name": "Python 3 (ipykernel)",
   "language": "python",
   "name": "python3"
  },
  "language_info": {
   "codemirror_mode": {
    "name": "ipython",
    "version": 3
   },
   "file_extension": ".py",
   "mimetype": "text/x-python",
   "name": "python",
   "nbconvert_exporter": "python",
   "pygments_lexer": "ipython3",
   "version": "3.8.12"
  },
  "toc": {
   "base_numbering": 1,
   "nav_menu": {},
   "number_sections": true,
   "sideBar": true,
   "skip_h1_title": false,
   "title_cell": "Table of Contents",
   "title_sidebar": "Contents",
   "toc_cell": false,
   "toc_position": {},
   "toc_section_display": true,
   "toc_window_display": false
  }
 },
 "nbformat": 4,
 "nbformat_minor": 5
}
